{
 "cells": [
  {
   "cell_type": "code",
   "execution_count": 10,
   "metadata": {
    "collapsed": false
   },
   "outputs": [
    {
     "data": {
      "text/plain": [
       "['',\n",
       " 'C:\\\\Users\\\\KRapes\\\\Anaconda3\\\\envs\\\\tensorflow\\\\python35.zip',\n",
       " 'C:\\\\Users\\\\KRapes\\\\Anaconda3\\\\envs\\\\tensorflow\\\\DLLs',\n",
       " 'C:\\\\Users\\\\KRapes\\\\Anaconda3\\\\envs\\\\tensorflow\\\\lib',\n",
       " 'C:\\\\Users\\\\KRapes\\\\Anaconda3\\\\envs\\\\tensorflow',\n",
       " 'C:\\\\Users\\\\KRapes\\\\Anaconda3\\\\envs\\\\tensorflow\\\\lib\\\\site-packages',\n",
       " 'C:\\\\Users\\\\KRapes\\\\Anaconda3\\\\envs\\\\tensorflow\\\\lib\\\\site-packages\\\\setuptools-27.2.0-py3.5.egg',\n",
       " 'C:\\\\Users\\\\KRapes\\\\Anaconda3\\\\envs\\\\tensorflow\\\\lib\\\\site-packages\\\\IPython\\\\extensions',\n",
       " 'C:\\\\Users\\\\KRapes\\\\.ipython',\n",
       " '/usr/local/lib/python2.7/site-packages',\n",
       " '/usr/local/lib/python2.7/site-packages']"
      ]
     },
     "execution_count": 10,
     "metadata": {},
     "output_type": "execute_result"
    }
   ],
   "source": [
    "import os\n",
    "os.sys.path"
   ]
  },
  {
   "cell_type": "code",
   "execution_count": 11,
   "metadata": {
    "collapsed": false
   },
   "outputs": [
    {
     "ename": "ImportError",
     "evalue": "No module named 'cv2'",
     "output_type": "error",
     "traceback": [
      "\u001b[1;31m---------------------------------------------------------------------------\u001b[0m",
      "\u001b[1;31mImportError\u001b[0m                               Traceback (most recent call last)",
      "\u001b[1;32m<ipython-input-11-39c186ca3db9>\u001b[0m in \u001b[0;36m<module>\u001b[1;34m()\u001b[0m\n\u001b[0;32m      1\u001b[0m \u001b[1;32mimport\u001b[0m \u001b[0mnumpy\u001b[0m \u001b[1;32mas\u001b[0m \u001b[0mnp\u001b[0m\u001b[1;33m\u001b[0m\u001b[0m\n\u001b[1;32m----> 2\u001b[1;33m \u001b[1;32mimport\u001b[0m \u001b[0mcv2\u001b[0m\u001b[1;33m\u001b[0m\u001b[0m\n\u001b[0m\u001b[0;32m      3\u001b[0m \u001b[1;32mimport\u001b[0m \u001b[0mos\u001b[0m\u001b[1;33m\u001b[0m\u001b[0m\n\u001b[0;32m      4\u001b[0m \u001b[1;32mfrom\u001b[0m \u001b[0mmatplotlib\u001b[0m \u001b[1;32mimport\u001b[0m \u001b[0mpyplot\u001b[0m \u001b[1;32mas\u001b[0m \u001b[0mplt\u001b[0m\u001b[1;33m\u001b[0m\u001b[0m\n\u001b[0;32m      5\u001b[0m \u001b[1;32mfrom\u001b[0m \u001b[0mskimage\u001b[0m\u001b[1;33m.\u001b[0m\u001b[0mfilters\u001b[0m \u001b[1;32mimport\u001b[0m \u001b[0mthreshold_local\u001b[0m\u001b[1;33m\u001b[0m\u001b[0m\n",
      "\u001b[1;31mImportError\u001b[0m: No module named 'cv2'"
     ]
    }
   ],
   "source": [
    "import numpy as np\n",
    "import cv2\n",
    "import os\n",
    "from matplotlib import pyplot as plt\n",
    "from skimage.filters import threshold_local\n",
    "from skimage import img_as_ubyte\n",
    "import pickle\n",
    "from collections import Counter\n",
    "from scipy import ndimage\n",
    "from scipy.misc import imresize\n",
    "from AreaOfInterest import ravel, predict_score, seperate_data\n",
    "from Tensorflow_network import TF_model, test_model\n",
    "from dataset_lib import normalize, ascii_to_map, one_hot_encode\n",
    "from time import time\n",
    "import Main"
   ]
  },
  {
   "cell_type": "markdown",
   "metadata": {},
   "source": [
    "The following block of code correspondes to the _Process Image_ section outlined in the report. "
   ]
  },
  {
   "cell_type": "code",
   "execution_count": null,
   "metadata": {
    "collapsed": true
   },
   "outputs": [],
   "source": [
    "# Retrieve the names of the images in the top level of the Image folder\n",
    "images = Main.image_names(\"images\") \n",
    "print(\"START\")\n",
    "DT_acc = 0   # A rolling sum of the Decision Tree accuracy\n",
    "TF_acc = 0   # A rolling sum of the TensorFlow accuracy\n",
    "\n",
    "for image_count, image in enumerate(images):\n",
    "    \n",
    "    # read images\n",
    "    img = cv2.imread(image,0)\n",
    "    # Locate the receipt, rotate it until the text is horizontal and crop-out the background\n",
    "    img = Main.locate_receipt(img)\n",
    "    # Cut image into lines of text\n",
    "    lines = Main.clip_lines(img)\n",
    "    # Cut lines into single character blocks\n",
    "    clipsL = Main.clip_letter(lines)\n",
    "    \n",
    "    # Reformate the image to be in the same style as the EMNIST dataset\n",
    "    for i in range(len(clipsL)):\n",
    "        orgional, clipL, global_x, global_y, w, h = clipsL[i]\n",
    "        clipL = Main.format_letter(clipL)\n",
    "        clipsL[i] = [orgional, clipL, global_x, global_y, w, h]\n",
    "    \n",
    "    "
   ]
  },
  {
   "cell_type": "markdown",
   "metadata": {},
   "source": [
    "The following block of code correspondes to the _Identify Recognizable Characters_ section outlined in the report."
   ]
  },
  {
   "cell_type": "code",
   "execution_count": null,
   "metadata": {
    "collapsed": true
   },
   "outputs": [],
   "source": [
    "    # Files to be used for testing (data) and the Decision Tree algorithms\n",
    "    fname = \".\\labeled_images\\labeled_images_\" + image.split('.')[0].split('images\\\\')[1] + '.pkl'\n",
    "    data, clf1, clf2 = Main.load_files(fname, skipdata=False)\n",
    "    \n",
    "    # The Decision Tree section of the code, Where blocks that are not recognizable characters are removed from the list\n",
    "    clipsL = Main.remove_deadspace(clipsL, clf1, clf2)"
   ]
  },
  {
   "cell_type": "markdown",
   "metadata": {},
   "source": [
    "The following block of code scores both the Decision Tree algorithms and the TensorFlow network by running them against a hand labeled set of images. "
   ]
  },
  {
   "cell_type": "code",
   "execution_count": null,
   "metadata": {
    "collapsed": true
   },
   "outputs": [],
   "source": [
    "# Test accuracy\n",
    "    accuracy_DT, accuracy_TF = Main.score_image(data, clf1, clf2)\n",
    "    DT_acc += accuracy_DT[0]\n",
    "    TF_acc += acc"
   ]
  },
  {
   "cell_type": "markdown",
   "metadata": {},
   "source": [
    "The following block of code correspondes to the _Classify Characters_ and _Replicate Image_ sections outlined in the report. "
   ]
  },
  {
   "cell_type": "code",
   "execution_count": null,
   "metadata": {
    "collapsed": true
   },
   "outputs": [],
   "source": [
    " # Use Tensorflow network to identify characters and replicate receipt\n",
    "    Main.replicate_receipt(img, clipsL)"
   ]
  },
  {
   "cell_type": "markdown",
   "metadata": {},
   "source": [
    "The following block of code prints the overall accuracies to the user."
   ]
  },
  {
   "cell_type": "code",
   "execution_count": null,
   "metadata": {
    "collapsed": true
   },
   "outputs": [],
   "source": [
    "print(\"The Area of Interest accuarcy was {}\".format(DT_acc/(image_count + 1)))\n",
    "print(\"The TF accuarcy was {}\".format(TF_acc/(image_count + 1)))\n",
    "print(\"\")"
   ]
  }
 ],
 "metadata": {
  "anaconda-cloud": {},
  "kernelspec": {
   "display_name": "Python [tensorflow]",
   "language": "python",
   "name": "Python [tensorflow]"
  },
  "language_info": {
   "codemirror_mode": {
    "name": "ipython",
    "version": 3
   },
   "file_extension": ".py",
   "mimetype": "text/x-python",
   "name": "python",
   "nbconvert_exporter": "python",
   "pygments_lexer": "ipython3",
   "version": "3.5.2"
  }
 },
 "nbformat": 4,
 "nbformat_minor": 0
}
